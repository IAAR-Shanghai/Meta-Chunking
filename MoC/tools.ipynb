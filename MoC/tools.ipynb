{
 "cells": [
  {
   "cell_type": "code",
   "execution_count": null,
   "metadata": {},
   "outputs": [
    {
     "data": {
      "text/plain": [
       "65.06426994638915"
      ]
     },
     "execution_count": 1,
     "metadata": {},
     "output_type": "execute_result"
    }
   ],
   "source": [
    "# Chinese paragraph length\n",
    "import json\n",
    "with open('data/corpus/corpus_nodie_internlm2_18B_00', 'r', encoding='utf-8') as file:   \n",
    "    content = file.read()  \n",
    "sentences_lists=content.split('\\n')\n",
    "# with open('chunk_others/corpus_ppl_qwen15B_die_0.json', 'r', encoding='utf-8') as file:  \n",
    "#     sentences_lists = json.load(file)\n",
    "len_sents=0\n",
    "len_lists=0\n",
    "for sentence in sentences_lists:\n",
    "    len_sents+=len(sentence)\n",
    "    len_lists+=1\n",
    "len_sents/len_lists"
   ]
  },
  {
   "cell_type": "code",
   "execution_count": null,
   "metadata": {},
   "outputs": [],
   "source": [
    "# Dynamic combination of Chinese text\n",
    "import json\n",
    "target_size=150\n",
    "merged_paragraphs = []  \n",
    "current_paragraph = \"\" \n",
    "filename='data/corpus/corpus_nodie_glm4_00_merge.json' \n",
    "with open('data/corpus/corpus_nodie_glm4_00', 'r', encoding='utf-8') as file:  \n",
    "\n",
    "    content = file.read()  \n",
    "sentences_lists=content.split('\\n')\n",
    "for paragraph in sentences_lists:  \n",
    "    if len(current_paragraph) + len(paragraph) <= target_size:  \n",
    "        current_paragraph +=' '+paragraph  \n",
    "    else:  \n",
    "        merged_paragraphs.append(current_paragraph)  \n",
    "        current_paragraph = paragraph   \n",
    "if current_paragraph:  \n",
    "    merged_paragraphs.append(current_paragraph)  \n",
    "with open(filename, 'w') as file:\n",
    "    json.dump(merged_paragraphs, file)"
   ]
  }
 ],
 "metadata": {
  "kernelspec": {
   "display_name": "zchunker",
   "language": "python",
   "name": "python3"
  },
  "language_info": {
   "codemirror_mode": {
    "name": "ipython",
    "version": 3
   },
   "file_extension": ".py",
   "mimetype": "text/x-python",
   "name": "python",
   "nbconvert_exporter": "python",
   "pygments_lexer": "ipython3",
   "version": "3.10.14"
  }
 },
 "nbformat": 4,
 "nbformat_minor": 2
}
